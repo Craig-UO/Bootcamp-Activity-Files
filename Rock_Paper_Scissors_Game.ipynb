{
  "nbformat": 4,
  "nbformat_minor": 0,
  "metadata": {
    "colab": {
      "provenance": [],
      "authorship_tag": "ABX9TyOmSl5fMfrsuzprm0GgR7vu",
      "include_colab_link": true
    },
    "kernelspec": {
      "name": "python3",
      "display_name": "Python 3"
    },
    "language_info": {
      "name": "python"
    }
  },
  "cells": [
    {
      "cell_type": "markdown",
      "metadata": {
        "id": "view-in-github",
        "colab_type": "text"
      },
      "source": [
        "<a href=\"https://colab.research.google.com/github/Craig-UO/Bootcamp-Activity-Files/blob/main/Rock_Paper_Scissors_Game.ipynb\" target=\"_parent\"><img src=\"https://colab.research.google.com/assets/colab-badge.svg\" alt=\"Open In Colab\"/></a>"
      ]
    },
    {
      "cell_type": "code",
      "execution_count": 15,
      "metadata": {
        "colab": {
          "base_uri": "https://localhost:8080/"
        },
        "id": "9gNX3aesLSp5",
        "outputId": "e4b25965-cf73-4f8d-d0e6-bb69c59c941e"
      },
      "outputs": [
        {
          "output_type": "stream",
          "name": "stdout",
          "text": [
            "You are playing rock, paper, scissors: enter r, p, or s to make your play s\n",
            "You chose s\n",
            "Computer Chose r\n",
            "You lose...\n"
          ]
        }
      ],
      "source": [
        "import random\n",
        "UserChoice=input('You are playing rock, paper, scissors: enter r, p, or s to make your play ')\n",
        "RPS=[\"r\", \"p\", \"s\"]\n",
        "ComputerChoice=random.choice(RPS)\n",
        "\n",
        "print(\"You chose \" + UserChoice)\n",
        "print(\"Computer Chose \" + ComputerChoice)\n",
        "\n",
        "if UserChoice==ComputerChoice:\n",
        "  print(\"It's a draw - play again\")\n",
        "elif UserChoice==\"r\" and ComputerChoice==\"s\":\n",
        "  print(\"You win!\")\n",
        "elif UserChoice==\"r\" and ComputerChoice==\"p\":\n",
        "  print(\"You lose...\")\n",
        "elif UserChoice==\"p\" and ComputerChoice==\"r\":\n",
        "  print(\"You win!\")\n",
        "elif UserChoice==\"p\" and ComputerChoice==\"s\":\n",
        "  print(\"You lose...\")\n",
        "elif UserChoice==\"s\" and ComputerChoice==\"r\":\n",
        "  print(\"You lose...\")\n",
        "elif UserChoice==\"s\" and ComputerChoice==\"p\":\n",
        "  print(\"You win!\")"
      ]
    },
    {
      "cell_type": "code",
      "source": [],
      "metadata": {
        "id": "3x8kgGy_UySm"
      },
      "execution_count": null,
      "outputs": []
    }
  ]
}